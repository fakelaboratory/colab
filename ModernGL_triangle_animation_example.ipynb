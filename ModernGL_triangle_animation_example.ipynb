{
  "nbformat": 4,
  "nbformat_minor": 0,
  "metadata": {
    "colab": {
      "provenance": [],
      "authorship_tag": "ABX9TyNKHulRsS2GqD25gxxTOqvi",
      "include_colab_link": true
    },
    "kernelspec": {
      "name": "python3",
      "display_name": "Python 3"
    },
    "language_info": {
      "name": "python"
    }
  },
  "cells": [
    {
      "cell_type": "markdown",
      "metadata": {
        "id": "view-in-github",
        "colab_type": "text"
      },
      "source": [
        "<a href=\"https://colab.research.google.com/github/fakelaboratory/colab/blob/main/ModernGL_triangle_animation_example.ipynb\" target=\"_parent\"><img src=\"https://colab.research.google.com/assets/colab-badge.svg\" alt=\"Open In Colab\"/></a>"
      ]
    },
    {
      "cell_type": "code",
      "source": [
        "!pip install moderngl\n",
        "!pip install moviepy\n",
        "import moderngl as gl\n",
        "import numpy as np\n",
        "from PIL import Image\n",
        "import moviepy.editor as mpy\n",
        "from google.colab import files\n",
        "\n",
        "ctx = gl.create_context(standalone=True, backend='egl')\n",
        "print(ctx.info)"
      ],
      "metadata": {
        "colab": {
          "base_uri": "https://localhost:8080/"
        },
        "id": "2DkuRMa7e6EH",
        "outputId": "d30bf57a-e56b-4e66-df7d-04b425d2feae"
      },
      "execution_count": null,
      "outputs": [
        {
          "output_type": "stream",
          "name": "stdout",
          "text": [
            "Requirement already satisfied: moderngl in /usr/local/lib/python3.10/dist-packages (5.9.0)\n",
            "Requirement already satisfied: glcontext<3,>=2.5.0 in /usr/local/lib/python3.10/dist-packages (from moderngl) (2.5.0)\n",
            "Requirement already satisfied: moviepy in /usr/local/lib/python3.10/dist-packages (1.0.3)\n",
            "Requirement already satisfied: decorator<5.0,>=4.0.2 in /usr/local/lib/python3.10/dist-packages (from moviepy) (4.4.2)\n",
            "Requirement already satisfied: tqdm<5.0,>=4.11.2 in /usr/local/lib/python3.10/dist-packages (from moviepy) (4.66.1)\n",
            "Requirement already satisfied: requests<3.0,>=2.8.1 in /usr/local/lib/python3.10/dist-packages (from moviepy) (2.31.0)\n",
            "Requirement already satisfied: proglog<=1.0.0 in /usr/local/lib/python3.10/dist-packages (from moviepy) (0.1.10)\n",
            "Requirement already satisfied: numpy>=1.17.3 in /usr/local/lib/python3.10/dist-packages (from moviepy) (1.23.5)\n",
            "Requirement already satisfied: imageio<3.0,>=2.5 in /usr/local/lib/python3.10/dist-packages (from moviepy) (2.31.6)\n",
            "Requirement already satisfied: imageio-ffmpeg>=0.2.0 in /usr/local/lib/python3.10/dist-packages (from moviepy) (0.4.9)\n",
            "Requirement already satisfied: pillow<10.1.0,>=8.3.2 in /usr/local/lib/python3.10/dist-packages (from imageio<3.0,>=2.5->moviepy) (9.4.0)\n",
            "Requirement already satisfied: setuptools in /usr/local/lib/python3.10/dist-packages (from imageio-ffmpeg>=0.2.0->moviepy) (67.7.2)\n",
            "Requirement already satisfied: charset-normalizer<4,>=2 in /usr/local/lib/python3.10/dist-packages (from requests<3.0,>=2.8.1->moviepy) (3.3.2)\n",
            "Requirement already satisfied: idna<4,>=2.5 in /usr/local/lib/python3.10/dist-packages (from requests<3.0,>=2.8.1->moviepy) (3.6)\n",
            "Requirement already satisfied: urllib3<3,>=1.21.1 in /usr/local/lib/python3.10/dist-packages (from requests<3.0,>=2.8.1->moviepy) (2.0.7)\n",
            "Requirement already satisfied: certifi>=2017.4.17 in /usr/local/lib/python3.10/dist-packages (from requests<3.0,>=2.8.1->moviepy) (2023.11.17)\n",
            "{'GL_VENDOR': 'Mesa', 'GL_RENDERER': 'llvmpipe (LLVM 15.0.7, 256 bits)', 'GL_VERSION': '4.5 (Core Profile) Mesa 23.0.4-0ubuntu1~22.04.1', 'GL_POINT_SIZE_RANGE': (1.0, 255.0), 'GL_SMOOTH_LINE_WIDTH_RANGE': (1.0, 255.0), 'GL_ALIASED_LINE_WIDTH_RANGE': (1.0, 255.0), 'GL_POINT_FADE_THRESHOLD_SIZE': 1.0, 'GL_POINT_SIZE_GRANULARITY': 0.10000000149011612, 'GL_SMOOTH_LINE_WIDTH_GRANULARITY': 0.10000000149011612, 'GL_MIN_PROGRAM_TEXEL_OFFSET': -32.0, 'GL_MAX_PROGRAM_TEXEL_OFFSET': 31.0, 'GL_MINOR_VERSION': 5, 'GL_MAJOR_VERSION': 4, 'GL_SAMPLE_BUFFERS': 0, 'GL_SUBPIXEL_BITS': 8, 'GL_CONTEXT_PROFILE_MASK': 1, 'GL_UNIFORM_BUFFER_OFFSET_ALIGNMENT': 16, 'GL_DOUBLEBUFFER': False, 'GL_STEREO': False, 'GL_MAX_VIEWPORT_DIMS': (16384, 16384), 'GL_MAX_3D_TEXTURE_SIZE': 2048, 'GL_MAX_ARRAY_TEXTURE_LAYERS': 2048, 'GL_MAX_CLIP_DISTANCES': 8, 'GL_MAX_COLOR_ATTACHMENTS': 8, 'GL_MAX_COLOR_TEXTURE_SAMPLES': 4, 'GL_MAX_COMBINED_FRAGMENT_UNIFORM_COMPONENTS': 262144, 'GL_MAX_COMBINED_GEOMETRY_UNIFORM_COMPONENTS': 262144, 'GL_MAX_COMBINED_TEXTURE_IMAGE_UNITS': 192, 'GL_MAX_COMBINED_UNIFORM_BLOCKS': 90, 'GL_MAX_COMBINED_VERTEX_UNIFORM_COMPONENTS': 262144, 'GL_MAX_CUBE_MAP_TEXTURE_SIZE': 16384, 'GL_MAX_DEPTH_TEXTURE_SAMPLES': 4, 'GL_MAX_DRAW_BUFFERS': 8, 'GL_MAX_DUAL_SOURCE_DRAW_BUFFERS': 1, 'GL_MAX_ELEMENTS_INDICES': 3000, 'GL_MAX_ELEMENTS_VERTICES': 3000, 'GL_MAX_FRAGMENT_INPUT_COMPONENTS': 128, 'GL_MAX_FRAGMENT_UNIFORM_COMPONENTS': 16384, 'GL_MAX_FRAGMENT_UNIFORM_VECTORS': 4096, 'GL_MAX_FRAGMENT_UNIFORM_BLOCKS': 15, 'GL_MAX_GEOMETRY_INPUT_COMPONENTS': 128, 'GL_MAX_GEOMETRY_OUTPUT_COMPONENTS': 128, 'GL_MAX_GEOMETRY_TEXTURE_IMAGE_UNITS': 32, 'GL_MAX_GEOMETRY_UNIFORM_BLOCKS': 15, 'GL_MAX_GEOMETRY_UNIFORM_COMPONENTS': 16384, 'GL_MAX_GEOMETRY_OUTPUT_VERTICES': 1024, 'GL_MAX_INTEGER_SAMPLES': 4, 'GL_MAX_SAMPLES': 4, 'GL_MAX_RECTANGLE_TEXTURE_SIZE': 16384, 'GL_MAX_RENDERBUFFER_SIZE': 16384, 'GL_MAX_SAMPLE_MASK_WORDS': 1, 'GL_MAX_TEXTURE_BUFFER_SIZE': 134217728, 'GL_MAX_TEXTURE_IMAGE_UNITS': 32, 'GL_MAX_TEXTURE_LOD_BIAS': 16, 'GL_MAX_TEXTURE_SIZE': 16384, 'GL_MAX_UNIFORM_BUFFER_BINDINGS': 90, 'GL_MAX_UNIFORM_BLOCK_SIZE': 65536, 'GL_MAX_VARYING_VECTORS': 32, 'GL_MAX_VERTEX_ATTRIBS': 16, 'GL_MAX_VERTEX_TEXTURE_IMAGE_UNITS': 32, 'GL_MAX_VERTEX_UNIFORM_COMPONENTS': 16384, 'GL_MAX_VERTEX_UNIFORM_VECTORS': 4096, 'GL_MAX_VERTEX_OUTPUT_COMPONENTS': 128, 'GL_MAX_VERTEX_UNIFORM_BLOCKS': 15, 'GL_MAX_SERVER_WAIT_TIMEOUT': 9223372034707292159, 'GL_VIEWPORT_BOUNDS_RANGE': (-32768, 32767), 'GL_VIEWPORT_SUBPIXEL_BITS': 0, 'GL_MAX_VIEWPORTS': 16, 'GL_MIN_MAP_BUFFER_ALIGNMENT': 64, 'GL_MAX_COMBINED_ATOMIC_COUNTERS': 4096, 'GL_MAX_FRAGMENT_ATOMIC_COUNTERS': 4096, 'GL_MAX_GEOMETRY_ATOMIC_COUNTERS': 4096, 'GL_MAX_TESS_CONTROL_ATOMIC_COUNTERS': 4096, 'GL_MAX_TESS_EVALUATION_ATOMIC_COUNTERS': 4096, 'GL_MAX_VERTEX_ATOMIC_COUNTERS': 4096, 'GL_MAX_COMPUTE_WORK_GROUP_COUNT': (65535, 65535, 65535), 'GL_MAX_COMPUTE_WORK_GROUP_SIZE': (1024, 1024, 1024), 'GL_MAX_VERTEX_ATTRIB_RELATIVE_OFFSET': 2047, 'GL_MAX_VERTEX_ATTRIB_BINDINGS': 16, 'GL_MAX_SHADER_STORAGE_BUFFER_BINDINGS': 80, 'GL_MAX_COMBINED_SHADER_STORAGE_BLOCKS': 80, 'GL_MAX_VERTEX_SHADER_STORAGE_BLOCKS': 16, 'GL_MAX_FRAGMENT_SHADER_STORAGE_BLOCKS': 16, 'GL_MAX_GEOMETRY_SHADER_STORAGE_BLOCKS': 16, 'GL_MAX_TESS_EVALUATION_SHADER_STORAGE_BLOCKS': 16, 'GL_MAX_TESS_CONTROL_SHADER_STORAGE_BLOCKS': 16, 'GL_MAX_COMPUTE_SHADER_STORAGE_BLOCKS': 16, 'GL_MAX_COMPUTE_UNIFORM_COMPONENTS': 16384, 'GL_MAX_COMPUTE_ATOMIC_COUNTERS': 4096, 'GL_MAX_COMPUTE_ATOMIC_COUNTER_BUFFERS': 16, 'GL_MAX_COMPUTE_WORK_GROUP_INVOCATIONS': 1024, 'GL_MAX_COMPUTE_UNIFORM_BLOCKS': 15, 'GL_MAX_COMPUTE_TEXTURE_IMAGE_UNITS': 32, 'GL_MAX_COMBINED_COMPUTE_UNIFORM_COMPONENTS': 262144, 'GL_MAX_FRAMEBUFFER_WIDTH': 16384, 'GL_MAX_FRAMEBUFFER_HEIGHT': 16384, 'GL_MAX_FRAMEBUFFER_LAYERS': 2048, 'GL_MAX_FRAMEBUFFER_SAMPLES': 4, 'GL_MAX_UNIFORM_LOCATIONS': 81920, 'GL_MAX_ELEMENT_INDEX': 4294967295, 'GL_MAX_SHADER_STORAGE_BLOCK_SIZE': 134217728}\n"
          ]
        }
      ]
    },
    {
      "cell_type": "code",
      "source": [
        "prog = ctx.program(\n",
        "    vertex_shader=\"\"\"\n",
        "        #version 330\n",
        "\n",
        "        in vec2 in_vert;\n",
        "        in vec3 in_color;\n",
        "\n",
        "        out vec3 v_color;\n",
        "\n",
        "        void main() {\n",
        "            v_color = in_color;\n",
        "            gl_Position = vec4(in_vert, 0.0, 1.0);\n",
        "        }\n",
        "    \"\"\",\n",
        "    fragment_shader=\"\"\"\n",
        "        #version 330\n",
        "\n",
        "        in vec3 v_color;\n",
        "\n",
        "        out vec3 f_color;\n",
        "\n",
        "        void main() {\n",
        "            f_color = v_color;\n",
        "        }\n",
        "    \"\"\",\n",
        ")\n",
        "\n",
        "vertices = np.asarray([\n",
        "\n",
        "    -0.75, -0.75,  1, 0, 0,\n",
        "    0.75, -0.75,  0, 1, 0,\n",
        "    0.0, 0.649,  0, 0, 1\n",
        "\n",
        "], dtype='f4')"
      ],
      "metadata": {
        "id": "gu3HlTFFnUB7"
      },
      "execution_count": null,
      "outputs": []
    },
    {
      "cell_type": "code",
      "source": [
        "def render_frame(time):\n",
        "  vbo = ctx.buffer(vertices.tobytes())\n",
        "  vao = ctx.vertex_array(prog, vbo, \"in_vert\", \"in_color\")\n",
        "\n",
        "  fbo = ctx.framebuffer(\n",
        "    color_attachments=[ctx.texture((512, 512), 3)]\n",
        "  )\n",
        "  fbo.use()\n",
        "  fbo.clear(0.0+time, 0.0+time, 0.0+time, 1.0)\n",
        "  vao.render()\n",
        "\n",
        "  return np.array(Image.frombytes(\n",
        "    \"RGB\", fbo.size, fbo.color_attachments[0].read(),\n",
        "    \"raw\", \"RGB\", 0, -1\n",
        "  ))\n",
        "display(render_frame(0.2))"
      ],
      "metadata": {
        "colab": {
          "base_uri": "https://localhost:8080/",
          "height": 917
        },
        "id": "6heaLXnCnedN",
        "outputId": "61ff7977-99ed-4dfc-8c44-659c5440ca9e"
      },
      "execution_count": null,
      "outputs": [
        {
          "output_type": "display_data",
          "data": {
            "text/plain": [
              "array([[[51, 51, 51],\n",
              "        [51, 51, 51],\n",
              "        [51, 51, 51],\n",
              "        ...,\n",
              "        [51, 51, 51],\n",
              "        [51, 51, 51],\n",
              "        [51, 51, 51]],\n",
              "\n",
              "       [[51, 51, 51],\n",
              "        [51, 51, 51],\n",
              "        [51, 51, 51],\n",
              "        ...,\n",
              "        [51, 51, 51],\n",
              "        [51, 51, 51],\n",
              "        [51, 51, 51]],\n",
              "\n",
              "       [[51, 51, 51],\n",
              "        [51, 51, 51],\n",
              "        [51, 51, 51],\n",
              "        ...,\n",
              "        [51, 51, 51],\n",
              "        [51, 51, 51],\n",
              "        [51, 51, 51]],\n",
              "\n",
              "       ...,\n",
              "\n",
              "       [[51, 51, 51],\n",
              "        [51, 51, 51],\n",
              "        [51, 51, 51],\n",
              "        ...,\n",
              "        [51, 51, 51],\n",
              "        [51, 51, 51],\n",
              "        [51, 51, 51]],\n",
              "\n",
              "       [[51, 51, 51],\n",
              "        [51, 51, 51],\n",
              "        [51, 51, 51],\n",
              "        ...,\n",
              "        [51, 51, 51],\n",
              "        [51, 51, 51],\n",
              "        [51, 51, 51]],\n",
              "\n",
              "       [[51, 51, 51],\n",
              "        [51, 51, 51],\n",
              "        [51, 51, 51],\n",
              "        ...,\n",
              "        [51, 51, 51],\n",
              "        [51, 51, 51],\n",
              "        [51, 51, 51]]], dtype=uint8)"
            ]
          },
          "metadata": {}
        }
      ]
    },
    {
      "cell_type": "code",
      "source": [
        "clip = mpy.VideoClip(render_frame, duration=2) # 2 seconds\n",
        "clip.write_gif(\"anim.gif\",fps=15)\n",
        "#now in files anim.gif"
      ],
      "metadata": {
        "colab": {
          "base_uri": "https://localhost:8080/",
          "height": 35
        },
        "id": "Kkizfl_SndQ-",
        "outputId": "41ee3e95-22a1-4e00-8ef1-12a0cb9bb0fe"
      },
      "execution_count": null,
      "outputs": [
        {
          "output_type": "stream",
          "name": "stdout",
          "text": [
            "MoviePy - Building file anim.gif with imageio.\n"
          ]
        },
        {
          "output_type": "stream",
          "name": "stderr",
          "text": []
        },
        {
          "output_type": "display_data",
          "data": {
            "text/plain": [
              "<IPython.core.display.Javascript object>"
            ],
            "application/javascript": [
              "\n",
              "    async function download(id, filename, size) {\n",
              "      if (!google.colab.kernel.accessAllowed) {\n",
              "        return;\n",
              "      }\n",
              "      const div = document.createElement('div');\n",
              "      const label = document.createElement('label');\n",
              "      label.textContent = `Downloading \"${filename}\": `;\n",
              "      div.appendChild(label);\n",
              "      const progress = document.createElement('progress');\n",
              "      progress.max = size;\n",
              "      div.appendChild(progress);\n",
              "      document.body.appendChild(div);\n",
              "\n",
              "      const buffers = [];\n",
              "      let downloaded = 0;\n",
              "\n",
              "      const channel = await google.colab.kernel.comms.open(id);\n",
              "      // Send a message to notify the kernel that we're ready.\n",
              "      channel.send({})\n",
              "\n",
              "      for await (const message of channel.messages) {\n",
              "        // Send a message to notify the kernel that we're ready.\n",
              "        channel.send({})\n",
              "        if (message.buffers) {\n",
              "          for (const buffer of message.buffers) {\n",
              "            buffers.push(buffer);\n",
              "            downloaded += buffer.byteLength;\n",
              "            progress.value = downloaded;\n",
              "          }\n",
              "        }\n",
              "      }\n",
              "      const blob = new Blob(buffers, {type: 'application/binary'});\n",
              "      const a = document.createElement('a');\n",
              "      a.href = window.URL.createObjectURL(blob);\n",
              "      a.download = filename;\n",
              "      div.appendChild(a);\n",
              "      a.click();\n",
              "      div.remove();\n",
              "    }\n",
              "  "
            ]
          },
          "metadata": {}
        },
        {
          "output_type": "display_data",
          "data": {
            "text/plain": [
              "<IPython.core.display.Javascript object>"
            ],
            "application/javascript": [
              "download(\"download_93985d78-7cef-42fb-8242-b4fa8704f53d\", \"anim.gif\", 261514)"
            ]
          },
          "metadata": {}
        }
      ]
    }
  ]
}